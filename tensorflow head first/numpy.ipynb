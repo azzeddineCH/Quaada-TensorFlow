{
 "cells": [
  {
   "cell_type": "markdown",
   "metadata": {
    "jupyter": {
     "outputs_hidden": true
    }
   },
   "source": [
    "![https://upload.wikimedia.org/wikipedia/commons/thumb/3/31/NumPy_logo_2020.svg/1280px-NumPy_logo_2020.svg.png](https://upload.wikimedia.org/wikipedia/commons/thumb/3/31/NumPy_logo_2020.svg/1280px-NumPy_logo_2020.svg.png)\n",
    "\n",
    "# What is Numpy ?\n",
    "\n",
    "Numpy is one of the fundamental packages for scientific computing in Python by providing a solid and performente API for multi-dimentaional array operations including mathematical, logical, shape manipulation, sorting, selecting, I/O, discrete Fourier transforms, basic linear algebra, basic statistical operations, random simulation and much more."
   ]
  },
  {
   "cell_type": "code",
   "execution_count": 3,
   "metadata": {
    "collapsed": true,
    "jupyter": {
     "outputs_hidden": true
    }
   },
   "outputs": [],
   "source": [
    "import numpy as np"
   ]
  },
  {
   "cell_type": "code",
   "execution_count": 4,
   "metadata": {
    "collapsed": true,
    "jupyter": {
     "outputs_hidden": true
    }
   },
   "outputs": [
    {
     "name": "stdout",
     "output_type": "stream",
     "text": [
      "a = [0, 1, 2, 3, 4, 5, 6, 7, 8]\n"
     ]
    }
   ],
   "source": [
    "a = [ i for i in range(9)]\n",
    "np_a = np.array(a)\n",
    "np_a"
   ]
  },
  {
   "cell_type": "markdown",
   "metadata": {},
   "source": [
    "# Numpy basics"
   ]
  },
  {
   "cell_type": "markdown",
   "metadata": {},
   "source": [
    "## 1. Important Notes"
   ]
  },
  {
   "cell_type": "markdown",
   "metadata": {},
   "source": [
    "- NumPy arrays have a fixed size at creation, unlike Python lists (which can grow dynamically). \n",
    "- The elements in a NumPy array are all required to be of the same data type."
   ]
  },
  {
   "cell_type": "markdown",
   "metadata": {},
   "source": [
    "## 2. Numpy ndarray objects"
   ]
  },
  {
   "cell_type": "markdown",
   "metadata": {},
   "source": [
    "the main object in Numpy id \"ndarray\" which is a multidimensional homogeneous array of ellements of the same type. indexed by a tuple of non-negative integeres that specify the position of the element among the diffrent axes (dimensions) "
   ]
  },
  {
   "cell_type": "markdown",
   "metadata": {},
   "source": [
    "### 2.1 Object creation"
   ]
  },
  {
   "cell_type": "code",
   "execution_count": 28,
   "metadata": {
    "collapsed": true,
    "jupyter": {
     "outputs_hidden": true
    }
   },
   "outputs": [
    {
     "data": {
      "text/plain": [
       "array([[1, 2, 3],\n",
       "       [4, 5, 6]])"
      ]
     },
     "execution_count": 28,
     "metadata": {},
     "output_type": "execute_result"
    }
   ],
   "source": [
    "a = [ \n",
    "      [1,2,3],\n",
    "      [4,5,6]\n",
    "    ]\n",
    "a = np.array(a)# create a 2d matric array startin from a 2d python list\n",
    "a "
   ]
  },
  {
   "cell_type": "code",
   "execution_count": 27,
   "metadata": {
    "collapsed": true,
    "jupyter": {
     "outputs_hidden": true
    }
   },
   "outputs": [
    {
     "data": {
      "text/plain": [
       "array([[1, 2, 3],\n",
       "       [4, 5, 6]])"
      ]
     },
     "execution_count": 27,
     "metadata": {},
     "output_type": "execute_result"
    }
   ],
   "source": [
    "a = [ \n",
    "      (1,2,3),\n",
    "      (4,5,6)\n",
    "    ]\n",
    "a = np.array(a) # create a 2d matric array startin from a 2d python tuple\n",
    "a "
   ]
  },
  {
   "cell_type": "code",
   "execution_count": 32,
   "metadata": {
    "collapsed": true,
    "jupyter": {
     "outputs_hidden": true
    }
   },
   "outputs": [
    {
     "data": {
      "text/plain": [
       "array([[1, 2, 3],\n",
       "       [4, 5, 6]])"
      ]
     },
     "execution_count": 32,
     "metadata": {},
     "output_type": "execute_result"
    }
   ],
   "source": [
    "a = np.arange(1,7).reshape(2,3) # create a 2d matric array startin from a range\n",
    "a"
   ]
  },
  {
   "cell_type": "markdown",
   "metadata": {},
   "source": [
    "### 2.2 Object attributes"
   ]
  },
  {
   "cell_type": "markdown",
   "metadata": {},
   "source": [
    "the most important attribute of the ndarray object are the following:"
   ]
  },
  {
   "cell_type": "code",
   "execution_count": 26,
   "metadata": {
    "collapsed": true,
    "jupyter": {
     "outputs_hidden": true
    }
   },
   "outputs": [
    {
     "name": "stdout",
     "output_type": "stream",
     "text": [
      "dim = 2\n",
      "shape = (2, 3)\n",
      "size = 6\n",
      "type = int64\n",
      "itemsize= 8\n"
     ]
    }
   ],
   "source": [
    "# the number of axes (dimensions) of the array.\n",
    "print(f\"dim = {a.ndim}\")\n",
    "\n",
    "# the dimensions of the array.\n",
    "print(f\"shape = {a.shape}\")\n",
    "\n",
    "# the total number of elements of the array.\n",
    "print(f\"size = {a.size}\")\n",
    "\n",
    "# an object describing the type of the elements in the array.\n",
    "print(f\"type = {a.dtype}\")\n",
    "\n",
    "# the size in bytes of each element of the array. For example, an array of elements of type float64 has itemsize 8 (=64/8)\n",
    "print(f\"itemsize= {a.itemsize}\")"
   ]
  },
  {
   "cell_type": "markdown",
   "metadata": {},
   "source": [
    "### 3. Basic operations"
   ]
  },
  {
   "cell_type": "code",
   "execution_count": 49,
   "metadata": {
    "collapsed": true,
    "jupyter": {
     "outputs_hidden": true
    }
   },
   "outputs": [],
   "source": [
    "# rehaping\n",
    "a = np.arange(6) # array([0, 1, 2, 3, 4, 5]) with shape (,) and size 5\n",
    "a = a.reshape((2,3)) # reshape a to (2,3) matric"
   ]
  },
  {
   "cell_type": "code",
   "execution_count": 50,
   "metadata": {
    "collapsed": true,
    "jupyter": {
     "outputs_hidden": true
    }
   },
   "outputs": [],
   "source": [
    "# indexing\n",
    "item_1 = a[1,2]\n",
    "item_2 = a[-1,-1]\n",
    "item_3 = a[1,-1]"
   ]
  },
  {
   "cell_type": "code",
   "execution_count": 51,
   "metadata": {
    "collapsed": true,
    "jupyter": {
     "outputs_hidden": true
    }
   },
   "outputs": [],
   "source": [
    "# slicing\n",
    "column_0 = a[:,0] # get the firt column\n",
    "row_1 = a[1,:] # get the first row\n",
    "column_0_1 = a[:,:2] # get the the first and second column"
   ]
  },
  {
   "cell_type": "code",
   "execution_count": null,
   "metadata": {
    "collapsed": true,
    "jupyter": {
     "outputs_hidden": true
    }
   },
   "outputs": [],
   "source": [
    "# iterating\n",
    "for row in a: \n",
    "    elem = row[0] # select the first item of the row"
   ]
  },
  {
   "cell_type": "code",
   "execution_count": 65,
   "metadata": {
    "collapsed": true,
    "jupyter": {
     "outputs_hidden": true
    }
   },
   "outputs": [
    {
     "data": {
      "text/plain": [
       "array([11., 11., 11., 11., 11., 11.])"
      ]
     },
     "execution_count": 65,
     "metadata": {},
     "output_type": "execute_result"
    }
   ],
   "source": [
    "# addition  \n",
    "\n",
    "a = np.ones(6)\n",
    "b = np.ones(6)\n",
    "\n",
    "a  +  a # addition between two matrices\n",
    "a  +  10 # addition between a matric and a scalar"
   ]
  },
  {
   "cell_type": "code",
   "execution_count": 71,
   "metadata": {
    "collapsed": true,
    "jupyter": {
     "outputs_hidden": true
    }
   },
   "outputs": [
    {
     "data": {
      "text/plain": [
       "array([[12., 12.],\n",
       "       [12., 12.]])"
      ]
     },
     "execution_count": 71,
     "metadata": {},
     "output_type": "execute_result"
    }
   ],
   "source": [
    "# mutliplication  \n",
    "\n",
    "a = np.ones(4) + 1 \n",
    "b = np.ones(4) + 2\n",
    "\n",
    "a  * b   # addition between two matrices element wise\n",
    "a  * 10  # addition between a matric and a scalar\n",
    "\n",
    "a = a.reshape((2,2))\n",
    "b = b.reshape((2,2))\n",
    "a.dot(b) # matric multiplication"
   ]
  },
  {
   "cell_type": "code",
   "execution_count": 75,
   "metadata": {
    "collapsed": true,
    "jupyter": {
     "outputs_hidden": true
    }
   },
   "outputs": [
    {
     "data": {
      "text/plain": [
       "array([4, 5])"
      ]
     },
     "execution_count": 75,
     "metadata": {},
     "output_type": "execute_result"
    }
   ],
   "source": [
    "# masking\n",
    "\n",
    "a = np.arange(6)\n",
    "a > 3\n",
    "a[a > 3]"
   ]
  },
  {
   "cell_type": "code",
   "execution_count": null,
   "metadata": {
    "collapsed": true,
    "jupyter": {
     "outputs_hidden": true
    }
   },
   "outputs": [],
   "source": [
    "# reduction\n",
    "a = np.arange(6).reshape((2,3))\n",
    "a.reduce_max"
   ]
  },
  {
   "cell_type": "markdown",
   "metadata": {},
   "source": [
    "# Why numpy is so valiable?...it is fast!"
   ]
  },
  {
   "cell_type": "markdown",
   "metadata": {},
   "source": [
    "- Numpy prefroms operation in nearly C language time speed since np operation are mapped into a C interface\n",
    "- Python is slower than C because it is an interpreted language."
   ]
  },
  {
   "cell_type": "code",
   "execution_count": 122,
   "metadata": {},
   "outputs": [],
   "source": [
    "def py_mul(s):\n",
    "    a = [ i for i in range(s)]\n",
    "    b = [2 for i in range(s)]\n",
    "    c = []\n",
    "    for elem_a, elem_b in zip(a,b):\n",
    "        c.append(elem_a* elem_b)\n",
    "    \n",
    "    return c"
   ]
  },
  {
   "cell_type": "code",
   "execution_count": 123,
   "metadata": {},
   "outputs": [],
   "source": [
    "def np_mul(s):\n",
    "    a = np.arange(s)\n",
    "    b = np.ones(s)*2\n",
    "    c = a * b\n",
    "    return c"
   ]
  },
  {
   "cell_type": "code",
   "execution_count": 124,
   "metadata": {},
   "outputs": [],
   "source": [
    "sizes = [ 10**i for i in range(8)] # sampling matrices size"
   ]
  },
  {
   "cell_type": "code",
   "execution_count": 125,
   "metadata": {},
   "outputs": [],
   "source": [
    "py_times = []\n",
    "np_times = []\n",
    "\n",
    "# calculate the required time for 1-d element wise multiplication using native py and numpy\n",
    "for s in sizes: \n",
    "    start_time = time.time()\n",
    "    np_mul(s)\n",
    "    np_time = (time.time() - start_time)\n",
    "    np_times.append(np_time)\n",
    "    \n",
    "    start_time = time.time()\n",
    "    py_mul(s)\n",
    "    py_time = (time.time() - start_time)\n",
    "    py_times.append(py_time)"
   ]
  },
  {
   "cell_type": "code",
   "execution_count": 126,
   "metadata": {},
   "outputs": [
    {
     "data": {
      "text/plain": [
       "<matplotlib.legend.Legend at 0x7fc580c62a00>"
      ]
     },
     "execution_count": 126,
     "metadata": {},
     "output_type": "execute_result"
    },
    {
     "data": {
      "image/png": "[encoded data removed]",
      "text/plain": [
       "<Figure size 432x288 with 1 Axes>"
      ]
     },
     "metadata": {
      "needs_background": "light"
     },
     "output_type": "display_data"
    }
   ],
   "source": [
    "# plotting the results\n",
    "import matplotlib.pyplot as plt \n",
    "\n",
    "plt.plot(sizes,py_times)\n",
    "plt.plot(sizes,np_times)\n",
    "\n",
    "plt.legend([\"Python time in second\", \"Numpy time in second\"])"
   ]
  }
 ],
 "metadata": {
  "kernelspec": {
   "display_name": "Python 3",
   "language": "python",
   "name": "python3"
  },
  "language_info": {
   "codemirror_mode": {
    "name": "ipython",
    "version": 3
   },
   "file_extension": ".py",
   "mimetype": "text/x-python",
   "name": "python",
   "nbconvert_exporter": "python",
   "pygments_lexer": "ipython3",
   "version": "3.8.5"
  }
 },
 "nbformat": 4,
 "nbformat_minor": 4
}
